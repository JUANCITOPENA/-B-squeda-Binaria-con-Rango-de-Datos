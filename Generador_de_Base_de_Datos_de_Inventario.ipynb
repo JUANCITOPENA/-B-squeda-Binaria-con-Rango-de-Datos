{
  "cells": [
    {
      "cell_type": "markdown",
      "metadata": {
        "id": "view-in-github",
        "colab_type": "text"
      },
      "source": [
        "<a href=\"https://colab.research.google.com/github/JUANCITOPENA/-B-squeda-Binaria-con-Rango-de-Datos/blob/main/Generador_de_Base_de_Datos_de_Inventario.ipynb\" target=\"_parent\"><img src=\"https://colab.research.google.com/assets/colab-badge.svg\" alt=\"Open In Colab\"/></a>"
      ]
    },
    {
      "cell_type": "code",
      "source": [
        "import pandas as pd\n",
        "import random\n",
        "from datetime import datetime, timedelta\n",
        "\n",
        "# --- Configuración ---\n",
        "num_productos = 50  # Número de productos de ejemplo a generar\n",
        "archivo_salida = 'base_datos_inventario.xlsx' # Nombre del archivo Excel de salida\n",
        "\n",
        "# --- Listas de ejemplo para generar datos ---\n",
        "categorias = ['Electrónicos', 'Ropa', 'Hogar', 'Alimentos', 'Juguetes', 'Herramientas']\n",
        "proveedores = ['Proveedor A', 'Proveedor B', 'Proveedor C', 'Proveedor D']\n",
        "ubicaciones = ['Almacén 1', 'Almacén 2', 'Tienda Principal', 'Bodega Trasera']\n",
        "nombres_base = ['Artículo', 'Producto', 'Ítem', 'Elemento']\n",
        "\n",
        "# --- Generación de Datos ---\n",
        "datos_inventario = []\n",
        "ids_usados = set() # Para asegurar IDs únicos\n",
        "\n",
        "for i in range(num_productos):\n",
        "    # Generar ID único\n",
        "    while True:\n",
        "        id_producto = f\"PROD-{random.randint(1000, 9999)}\"\n",
        "        if id_producto not in ids_usados:\n",
        "            ids_usados.add(id_producto)\n",
        "            break\n",
        "\n",
        "    nombre_producto = f\"{random.choice(nombres_base)} {chr(random.randint(65, 90))}{random.randint(10, 99)}\" # Nombre aleatorio\n",
        "    categoria = random.choice(categorias)\n",
        "    cantidad_stock = random.randint(5, 200)\n",
        "    costo_unitario = round(random.uniform(1.50, 500.00), 2)\n",
        "    valor_total = round(cantidad_stock * costo_unitario, 2)\n",
        "\n",
        "    # Generar fechas aleatorias (últimos 6 meses)\n",
        "    hoy = datetime.now()\n",
        "    fecha_ultima_entrada = hoy - timedelta(days=random.randint(1, 180))\n",
        "    # Asegurar que la última salida no sea anterior a la última entrada (o el mismo día)\n",
        "    dias_desde_entrada = (hoy - fecha_ultima_entrada).days\n",
        "    fecha_ultima_salida = fecha_ultima_entrada + timedelta(days=random.randint(0, dias_desde_entrada)) if dias_desde_entrada > 0 else fecha_ultima_entrada\n",
        "\n",
        "\n",
        "    proveedor = random.choice(proveedores)\n",
        "    ubicacion = random.choice(ubicaciones)\n",
        "\n",
        "    datos_inventario.append({\n",
        "        'ID Producto': id_producto,\n",
        "        'Nombre Producto': nombre_producto,\n",
        "        'Categoría': categoria,\n",
        "        'Cantidad en Stock': cantidad_stock,\n",
        "        'Costo Unitario': costo_unitario,\n",
        "        'Valor Total': valor_total,\n",
        "        'Fecha Última Entrada': fecha_ultima_entrada.strftime('%Y-%m-%d'), # Formato AAAA-MM-DD\n",
        "        'Fecha Última Salida': fecha_ultima_salida.strftime('%Y-%m-%d'), # Formato AAAA-MM-DD\n",
        "        'Proveedor': proveedor,\n",
        "        'Ubicación': ubicacion\n",
        "    })\n",
        "\n",
        "# --- Creación del DataFrame ---\n",
        "df_inventario = pd.DataFrame(datos_inventario)\n",
        "\n",
        "# --- Guardar en Archivo Excel ---\n",
        "try:\n",
        "    # Usar 'xlsxwriter' como motor para mejor compatibilidad y formato si es necesario\n",
        "    with pd.ExcelWriter(archivo_salida, engine='xlsxwriter') as writer:\n",
        "        df_inventario.to_excel(writer, index=False, sheet_name='Inventario')\n",
        "\n",
        "        # Opcional: Ajustar ancho de columnas (requiere xlsxwriter)\n",
        "        workbook = writer.book\n",
        "        worksheet = writer.sheets['Inventario']\n",
        "        for i, col in enumerate(df_inventario.columns):\n",
        "            # Encontrar la longitud máxima del contenido en la columna\n",
        "            column_len = df_inventario[col].astype(str).map(len).max()\n",
        "            # Tomar la longitud máxima entre el encabezado y el contenido\n",
        "            column_len = max(column_len, len(col)) + 2 # Añadir un poco de espacio extra\n",
        "            worksheet.set_column(i, i, column_len)\n",
        "\n",
        "    print(f\"Archivo '{archivo_salida}' creado exitosamente con {num_productos} productos.\")\n",
        "\n",
        "except Exception as e:\n",
        "    print(f\"Error al crear el archivo Excel: {e}\")\n",
        "    # Fallback a un método más simple si xlsxwriter falla o no está instalado\n",
        "    try:\n",
        "        df_inventario.to_excel(archivo_salida, index=False)\n",
        "        print(f\"Archivo '{archivo_salida}' creado exitosamente (método alternativo).\")\n",
        "    except Exception as e_alt:\n",
        "        print(f\"Error al crear el archivo Excel (método alternativo): {e_alt}\")"
      ],
      "outputs": [
        {
          "output_type": "stream",
          "name": "stdout",
          "text": [
            "Archivo 'base_datos_inventario.xlsx' creado exitosamente con 50 productos.\n"
          ]
        }
      ],
      "execution_count": 6,
      "metadata": {
        "colab": {
          "base_uri": "https://localhost:8080/"
        },
        "id": "vvihIr4S-j2Y",
        "outputId": "a55263c8-43a9-4cdb-920c-c9b4638a2de8"
      }
    },
    {
      "cell_type": "code",
      "source": [
        "!pip install cartopy\n",
        "import cartopy"
      ],
      "metadata": {
        "colab": {
          "base_uri": "https://localhost:8080/"
        },
        "id": "uN57etID-4KJ",
        "outputId": "fbd4ee2c-723d-4737-f90d-be350a7619bf"
      },
      "execution_count": 2,
      "outputs": [
        {
          "output_type": "stream",
          "name": "stdout",
          "text": [
            "Collecting cartopy\n",
            "  Downloading Cartopy-0.24.1-cp311-cp311-manylinux_2_17_x86_64.manylinux2014_x86_64.whl.metadata (7.9 kB)\n",
            "Requirement already satisfied: numpy>=1.23 in /usr/local/lib/python3.11/dist-packages (from cartopy) (2.0.2)\n",
            "Requirement already satisfied: matplotlib>=3.6 in /usr/local/lib/python3.11/dist-packages (from cartopy) (3.10.0)\n",
            "Requirement already satisfied: shapely>=1.8 in /usr/local/lib/python3.11/dist-packages (from cartopy) (2.0.7)\n",
            "Requirement already satisfied: packaging>=21 in /usr/local/lib/python3.11/dist-packages (from cartopy) (24.2)\n",
            "Requirement already satisfied: pyshp>=2.3 in /usr/local/lib/python3.11/dist-packages (from cartopy) (2.3.1)\n",
            "Requirement already satisfied: pyproj>=3.3.1 in /usr/local/lib/python3.11/dist-packages (from cartopy) (3.7.1)\n",
            "Requirement already satisfied: contourpy>=1.0.1 in /usr/local/lib/python3.11/dist-packages (from matplotlib>=3.6->cartopy) (1.3.1)\n",
            "Requirement already satisfied: cycler>=0.10 in /usr/local/lib/python3.11/dist-packages (from matplotlib>=3.6->cartopy) (0.12.1)\n",
            "Requirement already satisfied: fonttools>=4.22.0 in /usr/local/lib/python3.11/dist-packages (from matplotlib>=3.6->cartopy) (4.56.0)\n",
            "Requirement already satisfied: kiwisolver>=1.3.1 in /usr/local/lib/python3.11/dist-packages (from matplotlib>=3.6->cartopy) (1.4.8)\n",
            "Requirement already satisfied: pillow>=8 in /usr/local/lib/python3.11/dist-packages (from matplotlib>=3.6->cartopy) (11.1.0)\n",
            "Requirement already satisfied: pyparsing>=2.3.1 in /usr/local/lib/python3.11/dist-packages (from matplotlib>=3.6->cartopy) (3.2.3)\n",
            "Requirement already satisfied: python-dateutil>=2.7 in /usr/local/lib/python3.11/dist-packages (from matplotlib>=3.6->cartopy) (2.8.2)\n",
            "Requirement already satisfied: certifi in /usr/local/lib/python3.11/dist-packages (from pyproj>=3.3.1->cartopy) (2025.1.31)\n",
            "Requirement already satisfied: six>=1.5 in /usr/local/lib/python3.11/dist-packages (from python-dateutil>=2.7->matplotlib>=3.6->cartopy) (1.17.0)\n",
            "Downloading Cartopy-0.24.1-cp311-cp311-manylinux_2_17_x86_64.manylinux2014_x86_64.whl (11.7 MB)\n",
            "\u001b[2K   \u001b[90m━━━━━━━━━━━━━━━━━━━━━━━━━━━━━━━━━━━━━━━━\u001b[0m \u001b[32m11.7/11.7 MB\u001b[0m \u001b[31m65.4 MB/s\u001b[0m eta \u001b[36m0:00:00\u001b[0m\n",
            "\u001b[?25hInstalling collected packages: cartopy\n",
            "Successfully installed cartopy-0.24.1\n"
          ]
        }
      ]
    }
  ],
  "metadata": {
    "colab": {
      "provenance": [],
      "history_visible": true,
      "include_colab_link": true
    },
    "kernelspec": {
      "display_name": "Python 3",
      "name": "python3"
    }
  },
  "nbformat": 4,
  "nbformat_minor": 0
}